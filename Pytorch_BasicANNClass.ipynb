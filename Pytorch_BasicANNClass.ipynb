{
 "cells": [
  {
   "cell_type": "markdown",
   "metadata": {},
   "source": [
    "## Training and Testing a basic ANN in Pytorch\n",
    "\n",
    "This tutorial will cover everything you need to make a basic multilayer perceptron ANN in pytorch and use it for your datasets!"
   ]
  },
  {
   "cell_type": "code",
   "execution_count": 1,
   "metadata": {},
   "outputs": [],
   "source": [
    "import torch\n",
    "import torch.nn as nn"
   ]
  },
  {
   "cell_type": "markdown",
   "metadata": {},
   "source": [
    "## Defining the class\n",
    "All neural networks in pytorch must be defined as class objects that extend the \"nn.Module\" class. These classes can be independent or inside other classes. Inside these class objects is where we determine the size/shape/type of our neural network"
   ]
  },
  {
   "cell_type": "code",
   "execution_count": 2,
   "metadata": {},
   "outputs": [],
   "source": [
    " \n",
    "class BIOF050:\n",
    "    \n",
    "    \n",
    "    '''\n",
    "        \n",
    "        Inside this Net class, we can define what we want our neural network to look like!\n",
    "        We will define the layers and the sizes of the layers here - this is just a basic ANN \n",
    "        \n",
    "        Inputs:\n",
    "        \n",
    "        n_features - how many features does one sample of our data have (how many columns does the matrix have)\n",
    "        \n",
    "        hidden_dimension - the number of hidden neurons we want?\n",
    "        \n",
    "        n_classes - the number of unique labels in our data (i.e. 0,1 for the Breast Cancer dataset)\n",
    "        \n",
    "    '''\n",
    "    \n",
    "    class Net(nn.Module):\n",
    "        \n",
    "        def __init__(self,n_features,hidden_dimension,n_classes):\n",
    "        \n",
    "            ##### calling the constructor of the parent class - gets everything we need from Pytorch\n",
    "            super(BIOF050.Net, self).__init__()\n",
    "            \n",
    "            ''' When dealing with nn.Linear, the first input is the size of the input data,\n",
    "            and the second input is how big you want the next layer to be '''\n",
    "            \n",
    "            ### The data enters here, then we make the next layer (hidden neurons)\n",
    "            self.input_layer = nn.Linear(n_features,hidden_dimension)\n",
    "            \n",
    "            ### hidden layer #1\n",
    "            self.layer1 = nn.Linear(hidden_dimension,hidden_dimension)\n",
    "            \n",
    "            ### hidden layer #2\n",
    "            self.layer2 = nn.Linear(hidden_dimension, hidden_dimension)\n",
    "            \n",
    "            ### The output layer, where we end up with a series of nodes corresponding to each of our uniquelabels\n",
    "            self.output_layer = nn.Linear(hidden_dimension,n_classes)\n",
    "            \n",
    "            '''\n",
    "             After each layer, we will apply nn.ReLU to transform our data into a nonlinear space - we can input\n",
    "             our data into this function, and ReLU will be applied!\n",
    "            '''\n",
    "            self.relu = nn.ReLU()\n",
    "            \n",
    "       \n",
    "    \n",
    "    \n",
    "        '''\n",
    "        Now, we have to define the forward method, which takes a data point, or, in most cases, a batch, and\n",
    "        feeds it through all the layers of our neural network until assigning it a layer\n",
    "        \n",
    "        nn.Linear takes one array as an input, so we will input our data right into each layer, and then input the\n",
    "        outputs of each layer into the next layer\n",
    "        \n",
    "        Finally, after the data has been passed through the output layer, we will convert it into a probaboility\n",
    "        distribution using the softmax function. \n",
    "        \n",
    "        This probabilty dsistribution will be used to assign a label to our\n",
    "        data points and to figure out just how well our neural network did, as we learned earlier today\n",
    "        \n",
    "        '''\n",
    "        def forward(self,batch):\n",
    "            \n",
    "            ## put the data into the input layer of the neural network\n",
    "            batch = self.input_layer(batch)\n",
    "            \n",
    "            ## apply the ReLU function to the output of the input layer\n",
    "            batch = self.relu(batch)\n",
    "            \n",
    "            ## put the transformed data into the first hidden layer of the neural network\n",
    "            batch = self.layer1(batch)\n",
    "            \n",
    "            ## apply the ReLU function to the output of the 1st hidden layer\n",
    "            batch = self.relu(batch)\n",
    "            \n",
    "            ## put the transformed data into the second hidden layer of the neural network\n",
    "            batch = self.layer2(batch)\n",
    "            \n",
    "            ## apply the ReLU function to the output of the 1st hidden layer\n",
    "            batch = self.relu(batch)\n",
    "            \n",
    "            ## put the transformed data into the output layer of the neural network\n",
    "            batch = self.output_layer(batch)\n",
    "            \n",
    "            ### return the probability distribution via the softmax function\n",
    "            return nn.functional.softmax(batch)\n",
    "            \n",
    "            \n",
    "            \n",
    "            "
   ]
  },
  {
   "cell_type": "markdown",
   "metadata": {},
   "source": [
    "## Next steps\n",
    "We will put this together with our data preprocessing and finish the BIOF 050 class, adding in functions for training and testing the data!\n",
    "\n",
    "First, message me on Slack with any questions!\n",
    "Then, move on to the next tutorial"
   ]
  },
  {
   "cell_type": "code",
   "execution_count": null,
   "metadata": {},
   "outputs": [],
   "source": []
  }
 ],
 "metadata": {
  "kernelspec": {
   "display_name": "Python 3",
   "language": "python",
   "name": "python3"
  },
  "language_info": {
   "codemirror_mode": {
    "name": "ipython",
    "version": 3
   },
   "file_extension": ".py",
   "mimetype": "text/x-python",
   "name": "python",
   "nbconvert_exporter": "python",
   "pygments_lexer": "ipython3",
   "version": "3.8.8"
  }
 },
 "nbformat": 4,
 "nbformat_minor": 4
}
